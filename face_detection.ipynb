{
  "nbformat": 4,
  "nbformat_minor": 0,
  "metadata": {
    "colab": {
      "provenance": [],
      "gpuType": "T4"
    },
    "kernelspec": {
      "name": "python3",
      "display_name": "Python 3"
    },
    "language_info": {
      "name": "python"
    },
    "accelerator": "GPU"
  },
  "cells": [
    {
      "cell_type": "code",
      "execution_count": 9,
      "metadata": {
        "id": "yRYB8t6UMsxu"
      },
      "outputs": [],
      "source": [
        "import cv2"
      ]
    },
    {
      "cell_type": "code",
      "source": [
        "face= cv2.CascadeClassifier('/content/haarcascade_frontalface_default.xml')"
      ],
      "metadata": {
        "id": "SiMqmEenM-Of"
      },
      "execution_count": 2,
      "outputs": []
    },
    {
      "cell_type": "code",
      "source": [
        "img= cv2.imread('/content/IMG20241213162630.png')"
      ],
      "metadata": {
        "id": "DNQfMoFFON_X"
      },
      "execution_count": 10,
      "outputs": []
    },
    {
      "cell_type": "code",
      "source": [
        "faces= face.detectMultiScale(img, scaleFactor=1.1, minNeighbors=5)"
      ],
      "metadata": {
        "id": "5WNbSPMNOZWv"
      },
      "execution_count": 11,
      "outputs": []
    },
    {
      "cell_type": "code",
      "source": [
        "for(x,y,w,h) in faces:\n",
        "  cv2.rectangle(img, (x,y), (x+w, y+h), (0,255,0), 2)"
      ],
      "metadata": {
        "id": "vIM1OqONOhUX"
      },
      "execution_count": 12,
      "outputs": []
    },
    {
      "cell_type": "code",
      "source": [
        "cv2.imwrite(\"face_detected.png\", img) # Corrected function name from 'inwrite' to 'imwrite'\n",
        "print('Photo Successfully exported')"
      ],
      "metadata": {
        "colab": {
          "base_uri": "https://localhost:8080/"
        },
        "id": "1gB5z_e5O-vg",
        "outputId": "922385ed-841b-477c-843f-cae3a51a6de7"
      },
      "execution_count": 14,
      "outputs": [
        {
          "output_type": "stream",
          "name": "stdout",
          "text": [
            "Photo Successfully exported\n"
          ]
        }
      ]
    }
  ]
}